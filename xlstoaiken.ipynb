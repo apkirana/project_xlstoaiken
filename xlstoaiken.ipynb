{
 "cells": [
  {
   "cell_type": "code",
   "execution_count": 38,
   "metadata": {},
   "outputs": [
    {
     "name": "stdout",
     "output_type": "stream",
     "text": [
      "Requirement already satisfied: openpyxl in /opt/anaconda3/lib/python3.12/site-packages (3.1.2)\n",
      "Requirement already satisfied: et-xmlfile in /opt/anaconda3/lib/python3.12/site-packages (from openpyxl) (1.1.0)\n"
     ]
    }
   ],
   "source": [
    "!pip install openpyxl"
   ]
  },
  {
   "cell_type": "code",
   "execution_count": 39,
   "metadata": {},
   "outputs": [
    {
     "name": "stdout",
     "output_type": "stream",
     "text": [
      "/opt/anaconda3/bin/python\n",
      "3.12.3 | packaged by conda-forge | (main, Apr 15 2024, 18:35:20) [Clang 16.0.6 ]\n"
     ]
    }
   ],
   "source": [
    "import sys\n",
    "print(sys.executable)\n",
    "print(sys.version)"
   ]
  },
  {
   "cell_type": "code",
   "execution_count": 40,
   "metadata": {},
   "outputs": [],
   "source": [
    "# Import library yang diperlukan\n",
    "import pandas as pd\n",
    "import openpyxl"
   ]
  },
  {
   "cell_type": "code",
   "execution_count": 41,
   "metadata": {},
   "outputs": [],
   "source": [
    "# Path ke file Excel Anda\n",
    "# Path ke file Excel Anda\n",
    "file_path = 'template.xlsx'\n",
    "\n",
    "# Membaca file Excel\n",
    "df = pd.read_excel(file_path, header=None)"
   ]
  },
  {
   "cell_type": "code",
   "execution_count": 42,
   "metadata": {},
   "outputs": [],
   "source": [
    "# Membuat peta konversi dari huruf ke indeks\n",
    "answer_map = {\n",
    "    'A': 0,\n",
    "    'B': 1,\n",
    "    'C': 2,\n",
    "    'D': 3,\n",
    "    'E': 4\n",
    "}\n"
   ]
  },
  {
   "cell_type": "code",
   "execution_count": 43,
   "metadata": {},
   "outputs": [],
   "source": [
    "output_path = 'output_aiken.txt'"
   ]
  },
  {
   "cell_type": "code",
   "execution_count": 44,
   "metadata": {},
   "outputs": [
    {
     "name": "stdout",
     "output_type": "stream",
     "text": [
      "Data error at row 1: Jawaban Benar is not a valid answer (A-E)\n"
     ]
    }
   ],
   "source": [
    "# Membuka file output untuk penulisan\n",
    "with open(output_path, 'w') as f:\n",
    "    for index, row in df.iterrows():\n",
    "        try:\n",
    "            # Memeriksa apakah jawaban benar adalah huruf yang valid dan melakukan konversi\n",
    "            correct_answer_index = answer_map[row[6].strip().upper()]\n",
    "        except KeyError as e:\n",
    "            print(f\"Data error at row {index + 1}: {row[6]} is not a valid answer (A-E)\")\n",
    "            continue\n",
    "\n",
    "        # Menulis pertanyaan tanpa nomor\n",
    "        f.write(f\"{row[0]}\\n\")\n",
    "        \n",
    "        # Menulis pilihan jawaban\n",
    "        choices = ['A', 'B', 'C', 'D', 'E']\n",
    "        for i in range(5):\n",
    "            f.write(f\"    {choices[i]}. {row[i + 1]}\\n\")\n",
    "        \n",
    "        # Menulis jawaban benar\n",
    "        correct_answer = choices[correct_answer_index]\n",
    "        f.write(f\"ANSWER: {correct_answer}\\n\\n\")\n"
   ]
  },
  {
   "cell_type": "code",
   "execution_count": 45,
   "metadata": {},
   "outputs": [
    {
     "name": "stdout",
     "output_type": "stream",
     "text": [
      "Konversi selesai! File AIKEN dapat ditemukan di 'output_aiken.txt'\n"
     ]
    }
   ],
   "source": [
    "\n",
    "# Menampilkan pesan bahwa konversi selesai\n",
    "print(f\"Konversi selesai! File AIKEN dapat ditemukan di '{output_path}'\")"
   ]
  }
 ],
 "metadata": {
  "kernelspec": {
   "display_name": "Python 3",
   "language": "python",
   "name": "python3"
  },
  "language_info": {
   "codemirror_mode": {
    "name": "ipython",
    "version": 3
   },
   "file_extension": ".py",
   "mimetype": "text/x-python",
   "name": "python",
   "nbconvert_exporter": "python",
   "pygments_lexer": "ipython3",
   "version": "3.12.3"
  }
 },
 "nbformat": 4,
 "nbformat_minor": 2
}
