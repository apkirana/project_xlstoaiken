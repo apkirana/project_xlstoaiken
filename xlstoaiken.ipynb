{
 "cells": [
  {
   "cell_type": "code",
   "execution_count": 1,
   "metadata": {},
   "outputs": [
    {
     "name": "stdout",
     "output_type": "stream",
     "text": [
      "Collecting openpyxl\n",
      "  Downloading openpyxl-3.1.5-py2.py3-none-any.whl.metadata (2.5 kB)\n",
      "Collecting et-xmlfile (from openpyxl)\n",
      "  Downloading et_xmlfile-1.1.0-py3-none-any.whl.metadata (1.8 kB)\n",
      "Downloading openpyxl-3.1.5-py2.py3-none-any.whl (250 kB)\n",
      "   ---------------------------------------- 0.0/250.9 kB ? eta -:--:--\n",
      "   - -------------------------------------- 10.2/250.9 kB ? eta -:--:--\n",
      "   - -------------------------------------- 10.2/250.9 kB ? eta -:--:--\n",
      "   ----------- --------------------------- 71.7/250.9 kB 653.6 kB/s eta 0:00:01\n",
      "   ------------------ ------------------- 122.9/250.9 kB 722.1 kB/s eta 0:00:01\n",
      "   ----------------------- -------------- 153.6/250.9 kB 762.6 kB/s eta 0:00:01\n",
      "   --------------------------- ---------- 184.3/250.9 kB 740.8 kB/s eta 0:00:01\n",
      "   --------------------------- ---------- 184.3/250.9 kB 740.8 kB/s eta 0:00:01\n",
      "   ------------------------------- ------ 204.8/250.9 kB 621.6 kB/s eta 0:00:01\n",
      "   ------------------------------- ------ 204.8/250.9 kB 621.6 kB/s eta 0:00:01\n",
      "   -------------------------------------- 250.9/250.9 kB 592.8 kB/s eta 0:00:00\n",
      "Downloading et_xmlfile-1.1.0-py3-none-any.whl (4.7 kB)\n",
      "Installing collected packages: et-xmlfile, openpyxl\n",
      "Successfully installed et-xmlfile-1.1.0 openpyxl-3.1.5\n"
     ]
    },
    {
     "name": "stderr",
     "output_type": "stream",
     "text": [
      "\n",
      "[notice] A new release of pip is available: 24.0 -> 24.2\n",
      "[notice] To update, run: C:\\Users\\POLINEMA\\AppData\\Local\\Microsoft\\WindowsApps\\PythonSoftwareFoundation.Python.3.11_qbz5n2kfra8p0\\python.exe -m pip install --upgrade pip\n"
     ]
    }
   ],
   "source": [
    "!pip install openpyxl"
   ]
  },
  {
   "cell_type": "code",
   "execution_count": 2,
   "metadata": {},
   "outputs": [
    {
     "name": "stdout",
     "output_type": "stream",
     "text": [
      "C:\\Users\\POLINEMA\\AppData\\Local\\Microsoft\\WindowsApps\\PythonSoftwareFoundation.Python.3.11_qbz5n2kfra8p0\\python.exe\n",
      "3.11.9 (tags/v3.11.9:de54cf5, Apr  2 2024, 10:12:12) [MSC v.1938 64 bit (AMD64)]\n"
     ]
    }
   ],
   "source": [
    "import sys\n",
    "print(sys.executable)\n",
    "print(sys.version)"
   ]
  },
  {
   "cell_type": "code",
   "execution_count": 19,
   "metadata": {},
   "outputs": [],
   "source": [
    "# Import library yang diperlukan\n",
    "import pandas as pd\n",
    "import openpyxl"
   ]
  },
  {
   "cell_type": "code",
   "execution_count": 25,
   "metadata": {},
   "outputs": [],
   "source": [
    "# Path ke file Excel Anda\n",
    "# Path ke file Excel Anda\n",
    "file_path = 'template.xlsx'\n",
    "\n",
    "# Membaca file Excel\n",
    "df = pd.read_excel(file_path, header=None)"
   ]
  },
  {
   "cell_type": "code",
   "execution_count": 26,
   "metadata": {},
   "outputs": [],
   "source": [
    "# Membuat peta konversi dari huruf ke indeks\n",
    "answer_map = {\n",
    "    'A': 0,\n",
    "    'B': 1,\n",
    "    'C': 2,\n",
    "    'D': 3,\n",
    "    'E': 4\n",
    "}\n"
   ]
  },
  {
   "cell_type": "code",
   "execution_count": 27,
   "metadata": {},
   "outputs": [],
   "source": [
    "output_path = 'output_aiken.txt'"
   ]
  },
  {
   "cell_type": "code",
   "execution_count": 28,
   "metadata": {},
   "outputs": [
    {
     "name": "stdout",
     "output_type": "stream",
     "text": [
      "Data error at row 1: Jawaban Benar is not a valid answer (A-E)\n"
     ]
    }
   ],
   "source": [
    "# Membuka file output untuk penulisan\n",
    "with open(output_path, 'w') as f:\n",
    "    for index, row in df.iterrows():\n",
    "        try:\n",
    "            # Memeriksa apakah jawaban benar adalah huruf yang valid dan melakukan konversi\n",
    "            correct_answer_index = answer_map[row[6].strip().upper()]\n",
    "        except KeyError as e:\n",
    "            print(f\"Data error at row {index + 1}: {row[6]} is not a valid answer (A-E)\")\n",
    "            continue\n",
    "\n",
    "        # Menulis pertanyaan tanpa nomor\n",
    "        f.write(f\"{row[0]}\\n\")\n",
    "        \n",
    "        # Menulis pilihan jawaban\n",
    "        choices = ['A', 'B', 'C', 'D', 'E']\n",
    "        for i in range(5):\n",
    "            f.write(f\"    {choices[i]}. {row[i + 1]}\\n\")\n",
    "        \n",
    "        # Menulis jawaban benar\n",
    "        correct_answer = choices[correct_answer_index]\n",
    "        f.write(f\"ANSWER: {correct_answer}\\n\\n\")\n"
   ]
  },
  {
   "cell_type": "code",
   "execution_count": 29,
   "metadata": {},
   "outputs": [
    {
     "name": "stdout",
     "output_type": "stream",
     "text": [
      "Konversi selesai! File AIKEN dapat ditemukan di 'output_aiken.txt'\n"
     ]
    }
   ],
   "source": [
    "\n",
    "# Menampilkan pesan bahwa konversi selesai\n",
    "print(f\"Konversi selesai! File AIKEN dapat ditemukan di '{output_path}'\")"
   ]
  }
 ],
 "metadata": {
  "kernelspec": {
   "display_name": "Python 3",
   "language": "python",
   "name": "python3"
  },
  "language_info": {
   "codemirror_mode": {
    "name": "ipython",
    "version": 3
   },
   "file_extension": ".py",
   "mimetype": "text/x-python",
   "name": "python",
   "nbconvert_exporter": "python",
   "pygments_lexer": "ipython3",
   "version": "3.11.9"
  }
 },
 "nbformat": 4,
 "nbformat_minor": 2
}
